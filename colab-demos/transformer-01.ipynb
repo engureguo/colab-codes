{
  "cells": [
    {
      "attachments": {},
      "cell_type": "markdown",
      "metadata": {
        "colab_type": "text",
        "id": "view-in-github"
      },
      "source": [
        "<a href=\"https://colab.research.google.com/github/engureguo/colab-codes/blob/master/colab-demos/transformer-01.ipynb\" target=\"_parent\"><img src=\"https://colab.research.google.com/assets/colab-badge.svg\" alt=\"Open In Colab\"/></a>"
      ]
    },
    {
      "cell_type": "code",
      "execution_count": 2,
      "metadata": {
        "colab": {
          "base_uri": "https://localhost:8080/"
        },
        "id": "iEEVb6gybvjr",
        "outputId": "b6327875-422f-4d0f-cbe7-04efd70b2c1a"
      },
      "outputs": [
        {
          "name": "stdout",
          "output_type": "stream",
          "text": [
            "/bin/bash: nvidia-smi: command not found\n"
          ]
        }
      ],
      "source": [
        "!nvidia-smi"
      ]
    },
    {
      "attachments": {},
      "cell_type": "markdown",
      "metadata": {
        "id": "tB2nNY1geYNU"
      },
      "source": [
        "## quick tour"
      ]
    },
    {
      "cell_type": "code",
      "execution_count": null,
      "metadata": {
        "id": "2d3-TLdqeaVZ"
      },
      "outputs": [],
      "source": [
        "!pip install -q transformers datasets torch timm"
      ]
    },
    {
      "attachments": {},
      "cell_type": "markdown",
      "metadata": {
        "id": "RI7NNMxsepM1"
      },
      "source": [
        "The `pipeline()` is the easiest and fastest way to use a pretrained model for inference. You can use the pipeline() out-of-the-box for many tasks across different modalities.\n",
        "\n",
        "pipeline API reference: https://huggingface.co/docs/transformers/main_classes/pipelines\n",
        "\n",
        "task summary & What Transformers can do?: https://huggingface.co/docs/transformers/task_summary\n"
      ]
    },
    {
      "cell_type": "code",
      "execution_count": null,
      "metadata": {
        "id": "f_KO0ZDzefvC"
      },
      "outputs": [],
      "source": [
        "from transformers import pipeline\n",
        "\n",
        "segmenter = pipeline(task=\"image-segmentation\")\n",
        "\n",
        "def segmenting(path:str):\n",
        "  preds = segmenter(path)\n",
        "  preds = [{\"score\": round(pred[\"score\"], 4), \"label\": pred[\"label\"]} for pred in preds]\n",
        "  print(*preds, sep=\"\\n\")\n",
        "  print('--------------------------------------------')\n",
        "\n",
        "# segmenting('/content/p1.jpg')\n",
        "# segmenting('/content/p2.jpg')\n",
        "# segmenting('/content/p3.jpg')\n",
        "# segmenting('/content/p4.jpg')\n",
        "# segmenting('/content/p5.jpg')\n",
        "# segmenting('/content/p6.jpg')\n"
      ]
    },
    {
      "cell_type": "code",
      "execution_count": 12,
      "metadata": {
        "colab": {
          "base_uri": "https://localhost:8080/"
        },
        "id": "9jvFP53NhJeY",
        "outputId": "9e67db33-2444-46b7-b5b7-661611e9c33d"
      },
      "outputs": [
        {
          "name": "stderr",
          "output_type": "stream",
          "text": [
            "No model was supplied, defaulted to Intel/dpt-large and revision e93beec (https://huggingface.co/Intel/dpt-large).\n",
            "Using a pipeline without specifying a model name and revision in production is not recommended.\n",
            "Some weights of DPTForDepthEstimation were not initialized from the model checkpoint at Intel/dpt-large and are newly initialized: ['neck.fusion_stage.layers.0.residual_layer1.convolution1.bias', 'neck.fusion_stage.layers.0.residual_layer1.convolution2.bias', 'neck.fusion_stage.layers.0.residual_layer1.convolution1.weight', 'neck.fusion_stage.layers.0.residual_layer1.convolution2.weight']\n",
            "You should probably TRAIN this model on a down-stream task to be able to use it for predictions and inference.\n",
            "Could not find image processor class in the image processor config or the model config. Loading based on pattern matching with the model's feature extractor configuration.\n"
          ]
        },
        {
          "name": "stdout",
          "output_type": "stream",
          "text": [
            "{'predicted_depth': tensor([[[ 0.4473,  0.4696,  0.4768,  ...,  0.2688,  0.3006,  0.2269],\n",
            "         [ 0.4842,  0.5039,  0.5082,  ...,  0.3008,  0.3448,  0.3221],\n",
            "         [ 0.5441,  0.5454,  0.5637,  ...,  0.3206,  0.3550,  0.3364],\n",
            "         ...,\n",
            "         [16.6691, 16.7446, 16.7471,  ..., 17.2428, 17.2447, 17.2159],\n",
            "         [16.7485, 16.7324, 16.7714,  ..., 17.2329, 17.2586, 17.2636],\n",
            "         [16.7289, 16.7425, 16.7765,  ..., 17.2729, 17.2943, 17.2212]]]), 'depth': <PIL.Image.Image image mode=L size=401x601 at 0x7F2698F96380>}\n"
          ]
        }
      ],
      "source": [
        "from transformers import pipeline\n",
        "\n",
        "depth_estimator = pipeline(task=\"depth-estimation\")\n",
        "preds = depth_estimator(\"/content/p8.jpg\")\n",
        "\n",
        "print(preds)"
      ]
    },
    {
      "cell_type": "code",
      "execution_count": null,
      "metadata": {
        "id": "dADJDzNCmazp"
      },
      "outputs": [],
      "source": []
    }
  ],
  "metadata": {
    "colab": {
      "authorship_tag": "ABX9TyM45jMVlPLky1FTe/JLwnSj",
      "gpuType": "T4",
      "include_colab_link": true,
      "provenance": []
    },
    "gpuClass": "standard",
    "kernelspec": {
      "display_name": "Python 3",
      "name": "python3"
    },
    "language_info": {
      "name": "python"
    }
  },
  "nbformat": 4,
  "nbformat_minor": 0
}
