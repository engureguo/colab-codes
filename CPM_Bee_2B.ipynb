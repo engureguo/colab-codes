{
  "nbformat": 4,
  "nbformat_minor": 0,
  "metadata": {
    "colab": {
      "provenance": [],
      "authorship_tag": "ABX9TyM3vdEVY/IZcOSgnKKhCm5Z",
      "include_colab_link": true
    },
    "kernelspec": {
      "name": "python3",
      "display_name": "Python 3"
    },
    "language_info": {
      "name": "python"
    }
  },
  "cells": [
    {
      "cell_type": "markdown",
      "metadata": {
        "id": "view-in-github",
        "colab_type": "text"
      },
      "source": [
        "<a href=\"https://colab.research.google.com/github/engureguo/colab-codes/blob/master/CPM_Bee_2B.ipynb\" target=\"_parent\"><img src=\"https://colab.research.google.com/assets/colab-badge.svg\" alt=\"Open In Colab\"/></a>"
      ]
    },
    {
      "cell_type": "markdown",
      "source": [
        "[【OpenBMB/CPM-Bee】](https://github.com/OpenBMB/CPM-Bee)"
      ],
      "metadata": {
        "id": "OCHaXIkNHT0l"
      }
    },
    {
      "cell_type": "code",
      "execution_count": null,
      "metadata": {
        "id": "xHrItEM0_vQf"
      },
      "outputs": [],
      "source": [
        "!cd /content/ && rm -rf CPM-Bee &&\\\n",
        " git clone -b main --single-branch https://github.com/OpenBMB/CPM-Bee.git &&\\\n",
        " cd CPM-Bee/src &&\\\n",
        " pip install -r requirements.txt"
      ]
    },
    {
      "cell_type": "code",
      "source": [
        "!python /content/CPM-Bee/src/text_generation.py"
      ],
      "metadata": {
        "id": "D45JXFvUENBi"
      },
      "execution_count": null,
      "outputs": []
    }
  ]
}