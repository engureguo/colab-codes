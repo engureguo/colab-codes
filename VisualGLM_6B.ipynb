{
  "nbformat": 4,
  "nbformat_minor": 0,
  "metadata": {
    "colab": {
      "provenance": [],
      "gpuType": "T4",
      "authorship_tag": "ABX9TyOEhcQ6VDAIZswU1GJrXYCJ",
      "include_colab_link": true
    },
    "kernelspec": {
      "name": "python3",
      "display_name": "Python 3"
    },
    "language_info": {
      "name": "python"
    },
    "accelerator": "GPU"
  },
  "cells": [
    {
      "cell_type": "markdown",
      "metadata": {
        "id": "view-in-github",
        "colab_type": "text"
      },
      "source": [
        "<a href=\"https://colab.research.google.com/github/engureguo/colab-codes/blob/master/VisualGLM_6B.ipynb\" target=\"_parent\"><img src=\"https://colab.research.google.com/assets/colab-badge.svg\" alt=\"Open In Colab\"/></a>"
      ]
    },
    {
      "cell_type": "code",
      "execution_count": 1,
      "metadata": {
        "id": "YGln2STTwvJ-",
        "colab": {
          "base_uri": "https://localhost:8080/"
        },
        "outputId": "c0865502-dd9b-4137-a410-dcad88ba7ca5"
      },
      "outputs": [
        {
          "output_type": "stream",
          "name": "stdout",
          "text": [
            "Cloning into 'VisualGLM-6B'...\n",
            "remote: Enumerating objects: 305, done.\u001b[K\n",
            "remote: Counting objects: 100% (73/73), done.\u001b[K\n",
            "remote: Compressing objects: 100% (32/32), done.\u001b[K\n",
            "remote: Total 305 (delta 46), reused 45 (delta 41), pack-reused 232\u001b[K\n",
            "Receiving objects: 100% (305/305), 18.48 MiB | 2.90 MiB/s, done.\n",
            "Resolving deltas: 100% (157/157), done.\n"
          ]
        }
      ],
      "source": [
        "!git clone https://github.com/THUDM/VisualGLM-6B"
      ]
    },
    {
      "cell_type": "code",
      "source": [
        "# 下载模型\n",
        "!cd /content &&\\\n",
        " apt-get install -y axel &&\\\n",
        " axel -n 16 -k https://cloud.tsinghua.edu.cn/seafhttp/files/60005cf3-58f5-4de1-b34a-34a53869f2fd/visualglm-6b.zip &&\\\n",
        " mv visualglm-6b.zip /root/.sat_models"
      ],
      "metadata": {
        "id": "3mktwKOL49qa"
      },
      "execution_count": null,
      "outputs": []
    },
    {
      "cell_type": "code",
      "source": [
        "!cd /content/VisualGLM-6B && pip install -qr requirements.txt\n",
        "!python /content/VisualGLM-6B/web_demo.py --quant 4 --share"
      ],
      "metadata": {
        "colab": {
          "base_uri": "https://localhost:8080/"
        },
        "id": "U0LWqLc66EWO",
        "outputId": "70951a98-19d9-4981-9354-84b8b0c083d6"
      },
      "execution_count": 13,
      "outputs": [
        {
          "output_type": "stream",
          "name": "stdout",
          "text": [
            "[2023-05-31 13:22:42,020] [INFO] building VisualGLMModel model ...\n",
            "36583\n",
            "[2023-05-31 13:22:42,039] [INFO] [RANK 0] > initializing model parallel with size 1\n",
            "[2023-05-31 13:22:42,040] [INFO] [RANK 0] You are using model-only mode.\n",
            "For torch.distributed users or loading model parallel models, set environment variables RANK, WORLD_SIZE and LOCAL_RANK.\n",
            "/usr/local/lib/python3.10/dist-packages/torch/nn/init.py:405: UserWarning: Initializing zero-element tensors is a no-op\n",
            "  warnings.warn(\"Initializing zero-element tensors is a no-op\")\n",
            "[2023-05-31 13:22:56,814] [INFO] [RANK 0]  > number of parameters on model parallel rank 0: 7810582016\n",
            "[2023-05-31 13:23:00,809] [INFO] [RANK 0] global rank 0 is loading checkpoint /root/.sat_models/visualglm-6b/1/mp_rank_00_model_states.pt\n",
            "^C\n"
          ]
        }
      ]
    }
  ]
}